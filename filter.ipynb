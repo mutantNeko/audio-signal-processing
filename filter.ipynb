{
 "cells": [
  {
   "cell_type": "code",
   "execution_count": 1,
   "metadata": {},
   "outputs": [
    {
     "name": "stderr",
     "output_type": "stream",
     "text": [
      "/home/neko/miniconda3/envs/pyaudio/lib/python3.8/site-packages/pydub/utils.py:170: RuntimeWarning: Couldn't find ffmpeg or avconv - defaulting to ffmpeg, but may not work\n",
      "  warn(\"Couldn't find ffmpeg or avconv - defaulting to ffmpeg, but may not work\", RuntimeWarning)\n",
      "/home/neko/miniconda3/envs/pyaudio/lib/python3.8/site-packages/noisereduce/noisereduce.py:5: TqdmExperimentalWarning: Using `tqdm.autonotebook.tqdm` in notebook mode. Use `tqdm.tqdm` instead to force console mode (e.g. in jupyter console)\n",
      "  from tqdm.autonotebook import tqdm\n"
     ]
    }
   ],
   "source": [
    "import time\n",
    "from tqdm import tqdm\n",
    "import wave, sys\n",
    "\n",
    "import contextlib\n",
    "from pydub import AudioSegment\n",
    "import os\n",
    "import scipy.io.wavfile as wav\n",
    "import speechpy\n",
    "import numpy as np\n",
    "\n",
    "import soundfile as sf\n",
    "from sklearn.preprocessing import normalize\n",
    "import matplotlib.pyplot as plt\n",
    "from datetime import datetime\n",
    "\n",
    "import glob\n",
    "import librosa\n",
    "\n",
    "from IPython.display import Audio, display\n",
    "%matplotlib inline\n",
    "\n",
    "\n",
    "import os\n",
    "from tqdm import tqdm\n",
    "import pandas as pd\n",
    "import numpy as np\n",
    "import matplotlib.pyplot as plt\n",
    "import scipy.io.wavfile\n",
    "from python_speech_features import mfcc, logfbank\n",
    "import librosa\n",
    "import glob\n",
    "from scipy import fftpack\n",
    "\n",
    "import noisereduce as nr\n",
    "from scipy.signal import butter, lfilter, freqz"
   ]
  },
  {
   "cell_type": "code",
   "execution_count": 2,
   "metadata": {
    "code_folding": [
     0,
     2,
     7,
     36,
     46,
     53
    ]
   },
   "outputs": [],
   "source": [
    "def play(x, fr, autoplay=False):\n",
    "    display(Audio(x, rate=fr, autoplay=autoplay))\n",
    "def plot(x, title):\n",
    "    plt.figure(1)\n",
    "    plt.title(title)\n",
    "    plt.plot(x)\n",
    "    plt.show()\n",
    "def plot_fft(x, title):\n",
    "    time_step = 0.02\n",
    "    period = 5.\n",
    "    time_vec = np.arange(0, 20, time_step)\n",
    "    sig_fft = fftpack.fft(x)\n",
    "    power = np.abs(sig_fft)\n",
    "    sample_freq = fftpack.fftfreq(x.size, d=time_step)\n",
    "    \n",
    "    plt.figure(figsize=(6, 5))\n",
    "    plt.plot(sample_freq, power)\n",
    "    plt.xlabel('Frequency [Hz]')\n",
    "    plt.ylabel('Power')\n",
    "    plt.title(title)\n",
    "\n",
    "    pos_mask = np.where(sample_freq > 0)\n",
    "    freqs = sample_freq[pos_mask]\n",
    "    peak_freq = freqs[power[pos_mask].argmax()]\n",
    "\n",
    "    np.allclose(peak_freq, 1./period)\n",
    "    # fft_power.append(power.max())\n",
    "\n",
    "    print('Audio Name: ', title, 'Power : ', power.max())\n",
    "\n",
    "#     axes = plt.axes([0.55, 0.3, 0.3, 0.5])\n",
    "#     plt.title('Peak frequency')\n",
    "#     plt.plot(freqs[:8], power[:8])\n",
    "#     plt.setp(axes, yticks=[])\n",
    "#     plt.savefig('/home/neko/Desktop/MAS-testing 27 Aug/test14sept/{}.png'.format(file))\n",
    "    scipy.signal.find_peaks_cwt    \n",
    "def filterasi(path, noise_path):\n",
    "    signal, rate = librosa.load(path)\n",
    "    noise, noise_rate = librosa.load(noise_path)\n",
    "    noisyPart = noise[:]\n",
    "    filtered = nr.reduce_noise(audio_clip=signal, noise_clip=noisyPart, verbose=False)\n",
    "    print('Original Signal')\n",
    "    play(signal,rate)\n",
    "    print('Filtered Signal')\n",
    "    play(filtered, rate)\n",
    "    return filtered, rate      \n",
    "def butter_bandpass(lowcut, highcut, fs, order=5):\n",
    "    nyq = 0.5 * fs\n",
    "    low = lowcut / nyq\n",
    "    high = highcut / nyq\n",
    "    b, a = butter(order, [low, high], btype='band')\n",
    "    print('low: ', low, 'high :', high)\n",
    "    return b, a\n",
    "def butter_bandpass_filter(data, lowcut, highcut, fs, order=5):\n",
    "    b, a = butter_bandpass(lowcut, highcut, fs, order=order)\n",
    "    y = lfilter(b, a, data)\n",
    "    return y"
   ]
  },
  {
   "cell_type": "code",
   "execution_count": 35,
   "metadata": {},
   "outputs": [],
   "source": [
    "path = '/home/neko/Desktop/MAS-testing 27 Aug/demo_GUI/train/good/good_0.wav' \n",
    "\n",
    "path_wnoise = '/home/neko/Desktop/MAS-testing 27 Aug/testing 1/chunk_sound/sound_6.wav'\n",
    "# path_wnoise = '/home/neko/Desktop/MAS-testing 27 Aug/testing 1/chunk_sound/sound_5.wav'\n",
    "\n",
    "noise_path = '/home/neko/Desktop/MAS-testing 27 Aug/testing 1/chunk_noise/noise_0.wav'\n",
    "noise_path1 = '/home/neko/Desktop/MAS-testing 27 Aug/testing 1/chunk_noise/noise_1.wav'"
   ]
  },
  {
   "cell_type": "code",
   "execution_count": 36,
   "metadata": {},
   "outputs": [
    {
     "name": "stdout",
     "output_type": "stream",
     "text": [
      "Original Signal\n"
     ]
    },
    {
     "data": {
      "text/html": [
       "\n",
       "                <audio  controls=\"controls\" >\n",
       "                    <source src=\"data:audio/wav;base64,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\" type=\"audio/wav\" />\n",
       "                    Your browser does not support the audio element.\n",
       "                </audio>\n",
       "              "
      ],
      "text/plain": [
       "<IPython.lib.display.Audio object>"
      ]
     },
     "metadata": {},
     "output_type": "display_data"
    },
    {
     "name": "stdout",
     "output_type": "stream",
     "text": [
      "Filtered Signal\n"
     ]
    },
    {
     "data": {
      "text/html": [
       "\n",
       "                <audio  controls=\"controls\" >\n",
       "                    <source src=\"data:audio/wav;base64,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\" type=\"audio/wav\" />\n",
       "                    Your browser does not support the audio element.\n",
       "                </audio>\n",
       "              "
      ],
      "text/plain": [
       "<IPython.lib.display.Audio object>"
      ]
     },
     "metadata": {},
     "output_type": "display_data"
    },
    {
     "data": {
      "image/png": "[encoded data removed]",
      "text/plain": [
       "<Figure size 432x288 with 1 Axes>"
      ]
     },
     "metadata": {
      "needs_background": "light"
     },
     "output_type": "display_data"
    },
    {
     "name": "stdout",
     "output_type": "stream",
     "text": [
      "Audio Name:  Noise Reduced Signal Frequency Domain Power :  174.06275178045482\n"
     ]
    },
    {
     "data": {
      "image/png": "[encoded data removed]",
      "text/plain": [
       "<Figure size 432x360 with 1 Axes>"
      ]
     },
     "metadata": {
      "needs_background": "light"
     },
     "output_type": "display_data"
    }
   ],
   "source": [
    "filtered, rate = filterasi(path_wnoise, noise_path)\n",
    "plot(filtered, 'Noise Reduced Signal Time Domain')\n",
    "plot_fft(filtered, 'Noise Reduced Signal Frequency Domain')"
   ]
  },
  {
   "cell_type": "code",
   "execution_count": 37,
   "metadata": {},
   "outputs": [
    {
     "data": {
      "image/png": "[encoded data removed]",
      "text/plain": [
       "<Figure size 432x288 with 1 Axes>"
      ]
     },
     "metadata": {
      "needs_background": "light"
     },
     "output_type": "display_data"
    },
    {
     "name": "stdout",
     "output_type": "stream",
     "text": [
      "Audio Name:  2nd Noise Reduced Signal Frequency Domain Power :  115.69533239236672\n"
     ]
    },
    {
     "data": {
      "text/html": [
       "\n",
       "                <audio  controls=\"controls\" >\n",
       "                    <source src=\"data:audio/wav;base64,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\" type=\"audio/wav\" />\n",
       "                    Your browser does not support the audio element.\n",
       "                </audio>\n",
       "              "
      ],
      "text/plain": [
       "<IPython.lib.display.Audio object>"
      ]
     },
     "metadata": {},
     "output_type": "display_data"
    },
    {
     "data": {
      "image/png": "[encoded data removed]",
      "text/plain": [
       "<Figure size 432x360 with 1 Axes>"
      ]
     },
     "metadata": {
      "needs_background": "light"
     },
     "output_type": "display_data"
    }
   ],
   "source": [
    "noise, noise_rate = librosa.load(noise_path1)\n",
    "noisyPart = noise[:]\n",
    "filtered1 = nr.reduce_noise(audio_clip=filtered, noise_clip=noisyPart, verbose=False)\n",
    "plot(filtered1, '2nd Noise Reduced Signal Time Domain')\n",
    "plot_fft(filtered1, '2nd Noise Reduced Signal Frequency Domain')\n",
    "play(filtered1, rate)"
   ]
  },
  {
   "cell_type": "code",
   "execution_count": 34,
   "metadata": {},
   "outputs": [
    {
     "data": {
      "image/png": "[encoded data removed]",
      "text/plain": [
       "<Figure size 432x288 with 1 Axes>"
      ]
     },
     "metadata": {
      "needs_background": "light"
     },
     "output_type": "display_data"
    },
    {
     "name": "stdout",
     "output_type": "stream",
     "text": [
      "Audio Name:  Good Former Highpass Signal Frequency Domain Power :  204.6109858783546\n"
     ]
    },
    {
     "data": {
      "text/html": [
       "\n",
       "                <audio  controls=\"controls\" >\n",
       "                    <source src=\"data:audio/wav;base64,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\" type=\"audio/wav\" />\n",
       "                    Your browser does not support the audio element.\n",
       "                </audio>\n",
       "              "
      ],
      "text/plain": [
       "<IPython.lib.display.Audio object>"
      ]
     },
     "metadata": {},
     "output_type": "display_data"
    },
    {
     "data": {
      "image/png": "[encoded data removed]",
      "text/plain": [
       "<Figure size 432x360 with 1 Axes>"
      ]
     },
     "metadata": {
      "needs_background": "light"
     },
     "output_type": "display_data"
    }
   ],
   "source": [
    "def butter_highpass(cutoff, fs, order=5):\n",
    "    nyq = 0.5 * fs\n",
    "    normal_cutoff = cutoff / nyq\n",
    "    b, a = butter(order, normal_cutoff, btype='high', analog=False)\n",
    "    return b, a\n",
    "\n",
    "def butter_highpass_filter(data, cutoff, fs, order=5):\n",
    "    b, a = butter_highpass(cutoff, fs, order=order)\n",
    "    y = lfilter(b, a, data)\n",
    "    return y\n",
    "\n",
    "y = butter_highpass_filter(filtered1, 3000, rate, order=4)\n",
    "plot(y, 'Good Former Highpass Signal Time Domain')\n",
    "plot_fft(y, 'Good Former Highpass Signal Frequency Domain')\n",
    "play(y, rate)"
   ]
  },
  {
   "cell_type": "code",
   "execution_count": 33,
   "metadata": {},
   "outputs": [
    {
     "name": "stdout",
     "output_type": "stream",
     "text": [
      "low:  0.09070294784580499 high : 0.45351473922902497\n"
     ]
    },
    {
     "data": {
      "image/png": "[encoded data removed]",
      "text/plain": [
       "<Figure size 432x288 with 1 Axes>"
      ]
     },
     "metadata": {
      "needs_background": "light"
     },
     "output_type": "display_data"
    },
    {
     "name": "stdout",
     "output_type": "stream",
     "text": [
      "Audio Name:  Buttered Signal Frequency Domain Power :  222.99837135809685\n"
     ]
    },
    {
     "data": {
      "text/html": [
       "\n",
       "                <audio  controls=\"controls\" >\n",
       "                    <source src=\"data:audio/wav;base64,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\" type=\"audio/wav\" />\n",
       "                    Your browser does not support the audio element.\n",
       "                </audio>\n",
       "              "
      ],
      "text/plain": [
       "<IPython.lib.display.Audio object>"
      ]
     },
     "metadata": {},
     "output_type": "display_data"
    },
    {
     "data": {
      "image/png": "[encoded data removed]",
      "text/plain": [
       "<Figure size 432x360 with 1 Axes>"
      ]
     },
     "metadata": {
      "needs_background": "light"
     },
     "output_type": "display_data"
    }
   ],
   "source": [
    "y = butter_bandpass_filter(filtered1, 1000, 5000, rate, order=4)\n",
    "plot(y, 'Buttered Signal Time Domain')\n",
    "plot_fft(y, 'Buttered Signal Frequency Domain')\n",
    "play(y, rate)"
   ]
  },
  {
   "cell_type": "code",
   "execution_count": null,
   "metadata": {},
   "outputs": [],
   "source": [
    "filtered"
   ]
  },
  {
   "cell_type": "code",
   "execution_count": null,
   "metadata": {},
   "outputs": [],
   "source": [
    "signal, rate = librosa.load(path_wnoise)\n",
    "plot(signal, 'Good Former Without Noise Original Signal Time Domain')\n",
    "play(signal,rate)\n",
    "plot_fft(signal, 'Good Former Without Noise Original Signal Frequency Domain')"
   ]
  },
  {
   "cell_type": "code",
   "execution_count": null,
   "metadata": {},
   "outputs": [],
   "source": [
    "# plot(signal, 'Test')\n",
    "# plot_fft(signal, 'Test')\n",
    "filtered, rate = filterasi(path, noise_path)"
   ]
  },
  {
   "cell_type": "code",
   "execution_count": null,
   "metadata": {},
   "outputs": [],
   "source": []
  },
  {
   "cell_type": "code",
   "execution_count": null,
   "metadata": {},
   "outputs": [],
   "source": [
    "y_wnoise = butter_highpass_filter(filtered1, 3000, rate, order=4)\n",
    "plot(y_wnoise, 'Highpass Signal Time Domain')\n",
    "plot_fft(y_wnoise, 'Highpass Signal Frequency Domain')\n",
    "play(y_wnoise, rate)"
   ]
  },
  {
   "cell_type": "code",
   "execution_count": null,
   "metadata": {},
   "outputs": [],
   "source": [
    "signal, rate = librosa.load(path)\n",
    "plot(signal, 'Original Signal Time Domain')\n",
    "plot_fft(signal, 'Original Signal Frequency Domain')\n",
    "\n",
    "# filtered, rate = filterasi(path, noise_path)\n",
    "# plot(filtered, 'Noise Reduced Signal Time Domain')\n",
    "# plot_fft(filtered, 'Noise Reduced Signal Frequency Domain')\n",
    "\n",
    "# y = butter_bandpass_filter(filtered, 120, 600, rate, order=4)\n",
    "# plot(y, 'Buttered Signal Time Domain')\n",
    "# plot_fft(y, 'Buttered Signal Frequency Domain')\n",
    "# play(y, rate)"
   ]
  },
  {
   "cell_type": "code",
   "execution_count": null,
   "metadata": {},
   "outputs": [],
   "source": [
    "signal, rate = librosa.load(path)\n",
    "noise, noise_rate = librosa.load(noise_path)\n",
    "noise1, noise_rate1 = librosa.load(noise_path1)\n",
    "# play(noise, noise_rate)\n",
    "\n",
    "fig, axs = plt.subplots(2, 1)\n",
    "axs[0].plot(signal, rate, noise, noise_rate)\n",
    "axs[0].set_xlim(0, 2)\n",
    "axs[0].set_xlabel('time')\n",
    "axs[0].set_ylabel('s1 and s2')\n",
    "axs[0].grid(True)\n",
    "\n",
    "cxy, f = axs[1].cohere(s1, s2, 256, 1. / dt)\n",
    "axs[1].set_ylabel('coherence')\n",
    "\n",
    "fig.tight_layout()\n",
    "plt.show()"
   ]
  },
  {
   "cell_type": "code",
   "execution_count": null,
   "metadata": {},
   "outputs": [],
   "source": [
    "path = '/home/neko/Desktop/MAS-testing 27 Aug/demo_GUI/train/bad/bad_9.wav'\n",
    "# filterasi(path, noise_path)\n",
    "fft(path)\n",
    "# print('FFT AFTER NOISE REDUCED:  ', fft(filtered, rate, 'Noise reduced'))\n",
    "# print('FFT AFTER BANPASSED:  ', fft(y, rate, 'Bandpassed'))\n",
    "# print('FFT AFTER NOISE REDUCED & BANPASSED:  ', fft(y_af, rate, 'Noise reduced & Bandpassed'))"
   ]
  },
  {
   "cell_type": "code",
   "execution_count": null,
   "metadata": {},
   "outputs": [],
   "source": [
    "noisyPart = noise[:]\n",
    "noisyPart1 = noise1[:]\n",
    "filtered = nr.reduce_noise(audio_clip=signal, noise_clip=noisyPart, verbose=True)\n",
    "filtered1 = nr.reduce_noise(audio_clip=filtered, noise_clip=noisyPart1, verbose=True)\n",
    "\n",
    "play(filtered1, rate)"
   ]
  },
  {
   "cell_type": "code",
   "execution_count": null,
   "metadata": {},
   "outputs": [],
   "source": [
    "###########################################################################################\n",
    "###########################  NOISE FILTERED ###############################################\n",
    "###########################################################################################\n",
    "\n",
    "\n",
    "file = path.split('/')[-1]\n",
    "\n",
    "time_step = 0.02\n",
    "period = 5.\n",
    "\n",
    "time_vec = np.arange(0, 20, time_step)\n",
    "sig_fft = fftpack.fft(filtered1)\n",
    "\n",
    "\n",
    "power = np.abs(sig_fft)\n",
    "\n",
    "sample_freq = fftpack.fftfreq(filtered1.size, d=time_step)\n",
    "plt.figure(figsize=(6, 5))\n",
    "plt.plot(sample_freq, power)\n",
    "plt.xlabel('Frequency [Hz]')\n",
    "plt.ylabel('Power')\n",
    "plt.title(file)\n",
    "\n",
    "pos_mask = np.where(sample_freq > 0)\n",
    "freqs = sample_freq[pos_mask]\n",
    "peak_freq = freqs[power[pos_mask].argmax()]\n",
    "\n",
    "np.allclose(peak_freq, 1./period)\n",
    "# fft_power.append(power.max())\n",
    "\n",
    "print('Audio Name: ', file, 'Power : ', power.max())\n",
    "\n",
    "axes = plt.axes([0.55, 0.3, 0.3, 0.5])\n",
    "plt.title('Peak frequency')\n",
    "plt.plot(freqs[:8], power[:8])\n",
    "plt.setp(axes, yticks=[])\n",
    "plt.savefig('/home/neko/Desktop/MAS-testing 27 Aug/test14sept/{}.png'.format(file))\n",
    "scipy.signal.find_peaks_cwt\n",
    "\n",
    "# play(filtered, rate)"
   ]
  },
  {
   "cell_type": "code",
   "execution_count": null,
   "metadata": {
    "code_folding": [
     6,
     14,
     52
    ]
   },
   "outputs": [],
   "source": [
    "###########################################################################################\n",
    "###########################  BANDPASS #####################################################\n",
    "###########################################################################################\n",
    "\n",
    "from scipy.signal import butter, lfilter, freqz\n",
    "\n",
    "import numpy as np\n",
    "import matplotlib.pyplot as plt\n",
    "from scipy.signal import freqz\n",
    "\n",
    "x, fs = filtered, rate\n",
    "\n",
    "lowcut = 120\n",
    "highcut = 700\n",
    "\n",
    "b, a = butter_bandpass(lowcut, highcut, fs, order=4)\n",
    "w, h = freqz(b, a)\n",
    "\n",
    "y = butter_bandpass_filter(x, lowcut, highcut, fs, order=4)\n",
    "play(y,fs)\n",
    "\n",
    "plt.figure('Butterworth(Low-pass) filter frequency response')\n",
    "plt.title('Butterworth(Low-pass) filter frequency response')\n",
    "plt.plot(w, 20 * np.log10(abs(h)))\n",
    "plt.xscale('log')\n",
    "plt.xlabel('Frequency [radians / second]')\n",
    "plt.ylabel('Amplitude [dB]')\n",
    "plt.margins(0, 0.1)\n",
    "plt.grid(which='both', axis='both')\n",
    "################ Need to convert to rad/s freq cutoff * 2pi  ################################\n",
    "plt.axvline(2*np.pi*lowcut/fs, color='green') # cutoff frequency\n",
    "plt.axvline(2*np.pi*highcut/fs, color='green') # cutoff frequency\n",
    "\n",
    "plt.show()\n",
    "\n",
    "# y = butter_bandpass_filter(x, lowcut, highcut, fs, order=1)\n",
    "# play(y, fs)\n",
    "#  play()\n",
    "\n",
    "###########################################################################################\n",
    "###########################  PLOT FFT #####################################################\n",
    "###########################################################################################\n",
    "\n",
    "time_step = 0.02\n",
    "period = 5.\n",
    "\n",
    "time_vec = np.arange(0, 20, time_step)\n",
    "sig_fft = fftpack.fft(y)\n",
    "\n",
    "\n",
    "power = np.abs(sig_fft)\n",
    "\n",
    "sample_freq = fftpack.fftfreq(y.size, d=time_step)\n",
    "plt.figure(figsize=(6, 5))\n",
    "plt.plot(sample_freq, power)\n",
    "plt.xlabel('Frequency [Hz]')\n",
    "plt.ylabel('Power')\n",
    "plt.title(file)\n",
    "\n",
    "pos_mask = np.where(sample_freq > 0)\n",
    "freqs = sample_freq[pos_mask]\n",
    "peak_freq = freqs[power[pos_mask].argmax()]\n",
    "\n",
    "np.allclose(peak_freq, 1./period)\n",
    "# fft_power.append(power.max())\n",
    "\n",
    "print('Audio Name: ', file, 'Power : ', power.max())\n",
    "\n",
    "axes = plt.axes([0.55, 0.3, 0.3, 0.5])\n",
    "plt.title('Peak frequency')\n",
    "plt.plot(freqs[:8], power[:8])\n",
    "plt.setp(axes, yticks=[])\n",
    "plt.savefig('/home/neko/Desktop/MAS-testing 27 Aug/test14sept/bandpassed.png'.format(file))\n",
    "scipy.signal.find_peaks_cwt\n",
    "\n",
    "# play(y, rate)"
   ]
  },
  {
   "cell_type": "code",
   "execution_count": null,
   "metadata": {},
   "outputs": [],
   "source": [
    "from io import BytesIO\n",
    "import tempfile\n",
    "import requests\n",
    "import numpy as np\n",
    "import scipy.signal as sg\n",
    "import pydub\n",
    "import matplotlib.pyplot as plt\n",
    "from IPython.display import Audio, display\n",
    "%matplotlib inline\n",
    "\n",
    "x, fr = librosa.load(path)\n",
    "play(x, fr)\n",
    "fig, ax = plt.subplots(1, 1, figsize=(8, 4))\n",
    "t = np.linspace(0., len(x) / fr, len(x))\n",
    "ax.plot(t, x, lw=1)\n",
    "\n",
    "\n",
    "# plt.figure(figsize=(6, 5))\n",
    "# plt.plot(x, fr)\n",
    "# plt.xlabel('Time')\n",
    "# plt.ylabel('Audio')\n",
    "# plt.title(file)\n",
    "\n",
    "\n",
    "###########################################################################################\n",
    "###########################  PLOT FFT #####################################################\n",
    "###########################################################################################\n",
    "\n",
    "time_step = 0.02\n",
    "period = 5.\n",
    "\n",
    "time_vec = np.arange(0, 20, time_step)\n",
    "sig_fft = fftpack.fft(x)\n",
    "\n",
    "\n",
    "power = np.abs(sig_fft)\n",
    "\n",
    "sample_freq = fftpack.fftfreq(x.size, d=time_step)\n",
    "plt.figure(figsize=(6, 5))\n",
    "plt.plot(sample_freq, power)\n",
    "plt.xlabel('Frequency [Hz]')\n",
    "plt.ylabel('Power')\n",
    "plt.title(file)\n",
    "\n",
    "pos_mask = np.where(sample_freq > 0)\n",
    "freqs = sample_freq[pos_mask]\n",
    "peak_freq = freqs[power[pos_mask].argmax()]\n",
    "\n",
    "np.allclose(peak_freq, 1./period)\n",
    "# fft_power.append(power.max())\n",
    "\n",
    "print('Audio Name: ', file, 'Power : ', power.max())\n",
    "\n",
    "axes = plt.axes([0.55, 0.3, 0.3, 0.5])\n",
    "plt.title('Peak frequency')\n",
    "plt.plot(freqs[:8], power[:8])\n",
    "plt.setp(axes, yticks=[])\n",
    "plt.savefig('/home/neko/Desktop/MAS-testing 27 Aug/test14sept/original.png'.format(file))\n",
    "scipy.signal.find_peaks_cwt\n"
   ]
  },
  {
   "cell_type": "code",
   "execution_count": null,
   "metadata": {},
   "outputs": [],
   "source": [
    "b, a = sg.butter(4, 500. / (fr / 2.), 'low')\n",
    "x_fil = sg.filtfilt(b, a, x)\n",
    "play(x_fil, fr)\n",
    "fig, ax = plt.subplots(1, 1, figsize=(8, 4))\n",
    "ax.plot(t, x, lw=1)\n",
    "ax.plot(t, x_fil, lw=1)"
   ]
  },
  {
   "cell_type": "code",
   "execution_count": null,
   "metadata": {},
   "outputs": [],
   "source": [
    "b, a = sg.butter(4, 1000. / (fr / 2.), 'high')\n",
    "x_fil = sg.filtfilt(b, a, x)\n",
    "play(x_fil, fr)\n",
    "fig, ax = plt.subplots(1, 1, figsize=(6, 3))\n",
    "ax.plot(t, x, lw=1)\n",
    "ax.plot(t, x_fil, lw=1)"
   ]
  },
  {
   "cell_type": "code",
   "execution_count": null,
   "metadata": {},
   "outputs": [],
   "source": [
    "signal, rate = y, fs\n",
    "file = path.split('/')[-1]\n",
    "\n",
    "time_step = 0.02\n",
    "period = 5.\n",
    "\n",
    "time_vec = np.arange(0, 20, time_step)\n",
    "sig_fft = fftpack.fft(signal)\n",
    "\n",
    "\n",
    "power = np.abs(sig_fft)\n",
    "\n",
    "sample_freq = fftpack.fftfreq(signal.size, d=time_step)\n",
    "plt.figure(figsize=(6, 5))\n",
    "plt.plot(sample_freq, power)\n",
    "plt.xlabel('Frequency [Hz]')\n",
    "plt.ylabel('Power')\n",
    "plt.title(file)\n",
    "\n",
    "pos_mask = np.where(sample_freq > 0)\n",
    "freqs = sample_freq[pos_mask]\n",
    "peak_freq = freqs[power[pos_mask].argmax()]\n",
    "\n",
    "np.allclose(peak_freq, 1./period)\n",
    "# fft_power.append(power.max())\n",
    "\n",
    "print('Audio Name: ', file, 'Power : ', power.max())\n",
    "\n",
    "axes = plt.axes([0.55, 0.3, 0.3, 0.5])\n",
    "plt.title('Peak frequency')\n",
    "plt.plot(freqs[:8], power[:8])\n",
    "plt.setp(axes, yticks=[])\n",
    "plt.savefig('/home/neko/Desktop/MAS-testing 27 Aug/test14sept/{}.png'.format(file))\n",
    "scipy.signal.find_peaks_cwt"
   ]
  },
  {
   "cell_type": "code",
   "execution_count": null,
   "metadata": {},
   "outputs": [],
   "source": [
    "path = \"/home/neko/Desktop/MAS-testing 27 Aug/demo_GUI/train/bad/*.wav\"\n",
    "\n",
    "# i = \n",
    "audio_name =[]\n",
    "fft_power = []\n",
    "\n",
    "for fileName in glob.iglob(path):\n",
    "    print(fileName.split('/')[-1])\n",
    "    file = fileName.split('/')[-1]\n",
    "#     print(file)\n",
    "    signal, rate = librosa.load(fileName)\n",
    "#     fft = calc_fft(signal, rate)\n",
    "#     power = np.abs(fft)\n",
    "#     plot_fft(fft)\n",
    "#     plt.show()\n",
    "#     print('file: ', file,  fft)\n",
    "\n",
    "\n",
    "\n",
    "##################################################################\n",
    "\n",
    "    time_step = 0.02\n",
    "    period = 5.\n",
    "\n",
    "    time_vec = np.arange(0, 20, time_step)\n",
    "    sig_fft = fftpack.fft(signal)\n",
    "\n",
    "    # And the power (sig_fft is of complex dtype)\n",
    "    power = np.abs(sig_fft)\n",
    "\n",
    "    # The corresponding frequencies\n",
    "    sample_freq = fftpack.fftfreq(signal.size, d=time_step)\n",
    "    \n",
    "#     print(file)\n",
    "    # Plot the FFT power\n",
    "    plt.figure(figsize=(6, 5))\n",
    "    plt.plot(sample_freq, power)\n",
    "    plt.xlabel('Frequency [Hz]')\n",
    "    plt.ylabel('Power')\n",
    "    plt.title(file)\n",
    "\n",
    "    # Find the peak frequency: we can focus on only the positive frequencies\n",
    "    pos_mask = np.where(sample_freq > 0)\n",
    "    freqs = sample_freq[pos_mask]\n",
    "    peak_freq = freqs[power[pos_mask].argmax()]\n",
    "\n",
    "    # Check that it does indeed correspond to the frequency that we generate\n",
    "    # the signal with\n",
    "    np.allclose(peak_freq, 1./period)\n",
    "    fft_power.append(power.max())\n",
    "\n",
    "    print('Audio Name: ', file, 'Power : ', power.max())\n",
    "#     print(audio_name, name)\n",
    "#     if power.max() > 70:\n",
    "#         scipy.io.wavfile.write('/home/neko/Desktop/Former GUI/Model/TRAIN/GOOD/{}'.format(file), rate, signal)\n",
    "        \n",
    "#         print('OK ','Audio Name: ', file, 'Power : ', power.max())\n",
    "#     else:\n",
    "#         print('NG ','Audio Name: ', file, 'Power : ', power.max())\n",
    "#         scipy.io.wavfile.write('/home/neko/Desktop/Former GUI/Model/TRAIN/BAD/{}'.format(file), rate, signal)\n",
    "    \n",
    "    \n",
    "    # An inner plot to show the peak frequency\n",
    "    axes = plt.axes([0.55, 0.3, 0.3, 0.5])\n",
    "    plt.title('Peak frequency')\n",
    "    plt.plot(freqs[:8], power[:8])\n",
    "    plt.setp(axes, yticks=[])\n",
    "    plt.savefig('/home/neko/Desktop/MAS-testing 27 Aug/demo_GUI/train/plot/{}.png'.format(file))\n",
    "    scipy.signal.find_peaks_cwt\n",
    "    "
   ]
  },
  {
   "cell_type": "code",
   "execution_count": null,
   "metadata": {},
   "outputs": [],
   "source": [
    "test = \"/home/neko/Desktop/Former GUI/data/test.wav\""
   ]
  },
  {
   "cell_type": "code",
   "execution_count": null,
   "metadata": {},
   "outputs": [],
   "source": [
    "#path of datasets all files in this folder will be extracted Class are based on sub folder names or Containing AMB or ITR IN file name\n",
    "path = '/home/neko/Desktop/Former GUI/Model/TRAIN/'\n",
    "mle_start = 0\n",
    "mle_end = 30\n",
    "#SAVE DATA FILE TO? 2 Files X_?????: MLE /  y_????? : Targets\n",
    "datapath = \n",
    "dataname = 'train_binary'+'MLE_'+str(40-mle_end)\n",
    "#Generate PNG Vizualization of each extracted feat"
   ]
  },
  {
   "cell_type": "code",
   "execution_count": null,
   "metadata": {},
   "outputs": [],
   "source": [
    "dataname"
   ]
  },
  {
   "cell_type": "code",
   "execution_count": null,
   "metadata": {},
   "outputs": [],
   "source": [
    "rate"
   ]
  },
  {
   "cell_type": "code",
   "execution_count": null,
   "metadata": {},
   "outputs": [],
   "source": [
    "#path of datasets all files in this folder will be extracted Class are based on sub folder names or Containing AMB or ITR IN file name\n",
    "path = '/home/neko/Desktop/Former GUI/Model/TRAIN/'\n",
    "mle_start = 0\n",
    "mle_end = 30\n",
    "#SAVE DATA FILE TO? 2 Files X_?????: MLE /  y_????? : Targets\n",
    "datapath = path\n",
    "dataname = 'train_binary'+'MLE_'+str(40-mle_end)\n",
    "#Generate PNG Vizualization of each extracted feature (Value true or false)\n",
    "generateViz = True\n",
    "viz_filepath = path\n",
    "#0.1 - 100ms Slide (Bigger = Less Data) (Value must be 0.1 - 5)\n",
    "augmentation = 5\n",
    "\n",
    "#AUGMENTATION ERROR AVOIDANCE\n",
    "if augmentation > 5:\n",
    "    augmentation = 5\n",
    "elif augmentation < 0.01:\n",
    "    augmentation = 5\n",
    "    \n",
    "    \n",
    "fnIndex = []\n",
    "files = []\n",
    "# r=root, d=directories, f = files\n",
    "\n",
    "for ttt in tqdm(range(1)):\n",
    "    for r, d, f in os.walk(path):\n",
    "        for file in f:\n",
    "                if '.wav' in file:\n",
    "                     if(file.__contains__(\".png\")==0):\n",
    "                        print(file)\n",
    "                        files.append(os.path.join(r, file))\n",
    "                if '.WAV' in file:\n",
    "                     if(file.__contains__(\".png\")==0):\n",
    "                        print(file)\n",
    "                        files.append(os.path.join(r, file))\n",
    "\n",
    "\n",
    "\n",
    "            \n",
    "print(\"Files \",len(files))\n",
    "\n",
    "\n",
    "totalDataWillBe = 0           \n",
    "TotalD = 0\n",
    "\n",
    "cutSeconds = 0.05\n",
    "slideSeconds = augmentation\n",
    "shift = int(cutSeconds*10)/(slideSeconds*10) - 1\n",
    "#print(\"Audio Shift seconds\",slideSeconds)\n",
    "#print(\"Audio Shifts Segments\",shift)\n",
    "if(shift == 0):\n",
    "    shift = 1\n",
    "                \n",
    "print(\"Amount of Shifts :\",shift)\n",
    "shift = int(shift) \n",
    "i =0\n",
    "para_fl = 0.005\n",
    "para_ovlp = 0.60\n",
    "                       \n",
    "\n",
    "print(\"Window Size : \", cutSeconds * 1000 , \"ms\")                    \n",
    "print(\"Expected Data Amount :\",totalDataWillBe)\n",
    "hours = round(TotalD/60/60,2)\n",
    "mins = round(TotalD/60,2)\n",
    "secs = round(TotalD,2)\n",
    "print(\"Total Duration of all files \",hours,\"Hours\")\n",
    "print(\"Total Duration of all files \",mins,\"Minutes\")\n",
    "print(\"Total Duration of all files \",secs,\"Seconds\")\n",
    "\n",
    "totaldata = 1000\n",
    "\n",
    "##featureShape_x = z.shape[0]\n",
    "##featureShape_y = z.shape[1]\n",
    "#Place Holder\n",
    "featureShape_x = 81\n",
    "featureShape_y = 40\n",
    "dataset = np.ndarray(shape=(totaldata,featureShape_x,featureShape_y))\n",
    "target =   np.ndarray(shape=(totaldata))\n",
    "print(\"Dataset\",dataset.shape)\n",
    "print (\"Total data\",totaldata)\n",
    "print (\"Features Shape X\",featureShape_x)\n",
    "print (\"Features Shape Y\",featureShape_y)\n",
    "print (\"Initial Dataset Empty Array Shape\",dataset.shape)\n",
    "print (\"Initial Target Empty Array Shape\",target.shape)\n",
    "\n",
    "\n",
    "shift = int(cutSeconds/slideSeconds) - 1\n",
    "print(\"Audio Shift seconds\",slideSeconds)\n",
    "print(\"Audio Shifts Segments\",shift)\n",
    "\n",
    "debug = False\n",
    "if(shift == 0):\n",
    "    shift = 1\n",
    "i =0\n",
    "\n",
    "#Feats = \"MFCC\"\n",
    "Feats = \"MLE\"\n",
    "\n",
    "\n",
    "\n",
    "\n",
    "totalFiles = 0\n",
    "for fileindex in tqdm(range(0,len(files))):\n",
    "    f = files[fileindex]\n",
    "    \n",
    "\n",
    "    fname = f\n",
    "    fnIndex.append(fname)\n",
    "\n",
    "    fs, signal = wav.read(fname)\n",
    "    # # ## change here\n",
    "    # signal = signal.astype(float)\n",
    "    # signal = signal.sum(axis=1) / 2\n",
    "\n",
    "\n",
    "    print(f,\"sEG\")\n",
    "    print(fs,\"kHz\")\n",
    "    print(\"Channels\",signal.shape)\n",
    "    \n",
    "    if not (debug):\n",
    "        signal_preemphasized = speechpy.processing.preemphasis(signal, cof=0.98)\n",
    "        if (Feats == \"MLE\"):\n",
    "            logenergy = speechpy.feature.lmfe(signal, sampling_frequency=fs, frame_length=para_fl, frame_stride=para_fl*para_ovlp,\n",
    "            num_filters=40, fft_length=2048, low_frequency=20, high_frequency=8000)\n",
    "            print(logenergy.shape)\n",
    "            dataset[i] = logenergy\n",
    "            \n",
    "        elif(Feats == \"MFCC\"):\n",
    "            \n",
    "            mfcc = speechpy.feature.mfcc(signal, sampling_frequency=fs, frame_length=para_fl, frame_stride=para_fl*para_ovlp, num_cepstral=13, \n",
    "            num_filters=40, fft_length=2048, low_frequency=20, high_frequency=8000, dc_elimination=True)\n",
    "            print(mfcc.shape)\n",
    "            dataset[i] = mfcc\n",
    "            \n",
    "\n",
    "    if(f.__contains__(\"GOOD\")):\n",
    "        target[i] = 0\n",
    "    elif(f.__contains__(\"Bad\")):\n",
    "        target[i] = 1\n",
    "    elif(f.__contains__(\"BAD\")):\n",
    "        target[i] = 1  \n",
    "    elif(f.__contains__(\"BAD\")):\n",
    "        target[i] = 1\n",
    "    else:\n",
    "        target[i] = 1\n",
    "\n",
    "    #print(\"Data \",i)\n",
    "    #print(f.split('CNN/')[1].split('\\\\')[0])\n",
    "    \n",
    "    i += 1        \n",
    "#print(fnIndex)\n",
    "#np.save(fnIndex+\"X_\"+dataname+\".npy\", meaningful)\n",
    "                \n",
    "                \n",
    "print (i,\"Data Extracted\")\n",
    "print(dataset.shape)\n",
    "meaningful = dataset[0:i][:][:]\n",
    "meaningfultarget = target[0:i]\n",
    "AAA = list(meaningfultarget).count(0)\n",
    "HHH = list(meaningfultarget).count(1)\n",
    "\n",
    "Aper = int(AAA/i*100)\n",
    "Hper = int(HHH/i*100)\n",
    "\n",
    "print(AAA,\"samples 0-AMB \",Aper,\"%\")\n",
    "print(HHH,\"samples 1-ITR \",Hper,\"%\")\n",
    "\n",
    "\n",
    "print (\"Final Data Extracted Shape\",meaningful.shape)\n",
    "print (\"Final Target Extracted Shape\",meaningfultarget.shape)\n",
    "\n",
    "dist = \"TT-\" +str(i) +\" A-\" +str(Aper)\n",
    "print(dist)\n",
    "\n",
    "\n",
    "for i in range(meaningful.shape[0]):\n",
    "    logenergy = meaningful[i] \n",
    "    logenergy = normalize(logenergy, axis=1, norm='l1')\n",
    "    meaningful[i] = logenergy\n",
    "\n",
    "sampleNameHere = \"TEST_MLE30to40_l2norm-\"+str(para_fl*1000)+\"MS-\"+str(para_ovlp*100)+\"- OVERLAP60-1000ms-SHIFTING-16KHz 20-8K\"\n",
    "\n",
    "dateTimeObj = datetime.now()\n",
    "timestampStr = dateTimeObj.strftime(\" %d-%b-%Y-%H%M\")\n",
    "\n",
    "print('Current Tdatasetimestamp : ', timestampStr)\n",
    "filesavename = sampleNameHere+\"\"+dist+\"-\"+str(meaningful.shape[1]) +\"-\"+str(meaningful.shape[2])+timestampStr+\"H.npy\"\n",
    "np.save(path+\"X_\"+dataname+\".npy\", meaningful)\n",
    "# save\n",
    "np.save(path+\"y_\"+dataname+\".npy\", meaningfultarget) # save\n",
    "np.save(path+\"index\",fnIndex)\n",
    "\n",
    "print(\"Extraction Complete\")\n",
    "print(\"NPY FILE NAME : \")\n",
    "print(filesavename)\n",
    "\n",
    "if(generateViz):\n",
    "    \n",
    "    for xx in range(meaningful.shape[0]):\n",
    "        logenergy = meaningful[xx]\n",
    "        target = meaningfultarget[xx]\n",
    "        \n",
    "        if(target == 0.0):\n",
    "            label = \"GOOD\"\n",
    "        elif(target == 1.0):\n",
    "            label = \"BAD\"\n",
    "       \n",
    "        \n",
    "\n",
    "        fig = plt.figure()\n",
    "        plt.figure(figsize=(15,5))\n",
    "        plt.title(label + str(xx)+\"\"+Feats)\n",
    "        plt.ylabel(\"Mel-log filterbank\")\n",
    "        plt.xlabel(\"Frame\")\n",
    "        first_image = np.array(logenergy.transpose((1, 0)), dtype='float')\n",
    "        #pixels = first_image.reshape((1195, 40))\n",
    "        plt.imshow(first_image, interpolation='nearest', aspect='auto')\n",
    "        plt.colorbar()\n",
    "        plt.gca().invert_yaxis()\n",
    "        plt.savefig(viz_filepath+str(xx)+'-'+label+'.png')\n",
    "        print('Printing Vizualization', xx)\n"
   ]
  },
  {
   "cell_type": "code",
   "execution_count": null,
   "metadata": {},
   "outputs": [],
   "source": []
  },
  {
   "cell_type": "code",
   "execution_count": null,
   "metadata": {},
   "outputs": [],
   "source": []
  },
  {
   "cell_type": "code",
   "execution_count": null,
   "metadata": {},
   "outputs": [],
   "source": []
  },
  {
   "cell_type": "code",
   "execution_count": null,
   "metadata": {},
   "outputs": [],
   "source": []
  },
  {
   "cell_type": "code",
   "execution_count": null,
   "metadata": {},
   "outputs": [],
   "source": []
  },
  {
   "cell_type": "code",
   "execution_count": null,
   "metadata": {},
   "outputs": [],
   "source": []
  },
  {
   "cell_type": "code",
   "execution_count": null,
   "metadata": {},
   "outputs": [],
   "source": []
  },
  {
   "cell_type": "code",
   "execution_count": null,
   "metadata": {},
   "outputs": [],
   "source": []
  },
  {
   "cell_type": "code",
   "execution_count": null,
   "metadata": {},
   "outputs": [],
   "source": []
  },
  {
   "cell_type": "code",
   "execution_count": null,
   "metadata": {},
   "outputs": [],
   "source": [
    "def plot_fft(fft):\n",
    "    fig, axes = plt.subplots(nrows=3, ncols=2, sharex=False,\n",
    "                             sharey=True, figsize=(20,5))\n",
    "    fig.suptitle('Fourier Transforms', size=16)\n",
    "    i = 0\n",
    "    for x in range(3):\n",
    "        for y in range(2):\n",
    "            data = list(fft.values())[i]\n",
    "            Y, freq = data[0], data[1]\n",
    "            axes[x,y].set_title(list(fft.keys())[i])\n",
    "            axes[x,y].plot(freq, Y)\n",
    "            axes[x,y].get_xaxis().set_visible(False)\n",
    "            axes[x,y].get_yaxis().set_visible(False)\n",
    "            i += 1\n",
    "            \n",
    "def calc_fft(y, rate):\n",
    "    n = len(y)\n",
    "    freq = np.fft.rfftfreq(n, d=1/rate)\n",
    "    Y = abs(np.fft.rfft(y)/n)\n",
    "    return (Y, freq)"
   ]
  },
  {
   "cell_type": "code",
   "execution_count": null,
   "metadata": {
    "code_folding": [
     10,
     16
    ]
   },
   "outputs": [],
   "source": [
    "from scipy.signal import butter, lfilter\n",
    "\n",
    "def butter_bandpass(lowcut, highcut, fs, order=5):\n",
    "    nyq = 0.5 * fs\n",
    "    low = lowcut / nyq\n",
    "    high = highcut / nyq\n",
    "    b, a = butter(order, [low, high], btype='band')\n",
    "    return b, a\n",
    "\n",
    "\n",
    "def butter_bandpass_filter(data, lowcut, highcut, fs, order=5):\n",
    "    b, a = butter_bandpass(lowcut, highcut, fs, order=order)\n",
    "    y = lfilter(b, a, data)\n",
    "    return y\n",
    "\n",
    "\n",
    "def run():\n",
    "    import numpy as np\n",
    "    import matplotlib.pyplot as plt\n",
    "    from scipy.signal import freqz\n",
    "\n",
    "    # Sample rate and desired cutoff frequencies (in Hz).\n",
    "    fs = 5000\n",
    "    lowcut = 120.0\n",
    "    highcut = 600.0\n",
    "\n",
    "    # Plot the frequency response for a few different orders.\n",
    "    plt.figure(1)\n",
    "    plt.clf()\n",
    "    for order in [3, 6, 9]:\n",
    "        b, a = butter_bandpass(lowcut, highcut, fs, order=order)\n",
    "        w, h = freqz(b, a, worN=2000)\n",
    "        plt.plot((fs * 0.5 / np.pi) * w, abs(h), label=\"order = %d\" % order)\n",
    "\n",
    "    plt.plot([0, 0.5 * fs], [np.sqrt(0.5), np.sqrt(0.5)],\n",
    "             '--', label='sqrt(0.5)')\n",
    "    plt.xlabel('Frequency (Hz)')\n",
    "    plt.ylabel('Gain')\n",
    "    plt.grid(True)\n",
    "    plt.legend(loc='best')\n",
    "\n",
    "    # Filter a noisy signal.\n",
    "    T = 0.05\n",
    "    nsamples = int(T * fs)\n",
    "    t = np.linspace(0, T, nsamples, endpoint=False)\n",
    "    a = 0.02\n",
    "    f0 = 600.0\n",
    "    x = 0.1 * np.sin(2 * np.pi * 1.2 * np.sqrt(t))\n",
    "    x += 0.01 * np.cos(2 * np.pi * 312 * t + 0.1)\n",
    "    x += a * np.cos(2 * np.pi * f0 * t + .11)\n",
    "    x += 0.03 * np.cos(2 * np.pi * 2000 * t)\n",
    "    plt.figure(2)\n",
    "    plt.clf()\n",
    "    plt.plot(t, x, label='Noisy signal')\n",
    "\n",
    "    y = butter_bandpass_filter(x, lowcut, highcut, fs, order=6)\n",
    "    plt.plot(t, y, label='Filtered signal (%g Hz)' % f0)\n",
    "    plt.xlabel('time (seconds)')\n",
    "    plt.hlines([-a, a], 0, T, linestyles='--')\n",
    "    plt.grid(True)\n",
    "    plt.axis('tight')\n",
    "    plt.legend(loc='upper left')\n",
    "\n",
    "    plt.show()\n",
    "\n",
    "\n",
    "run()"
   ]
  },
  {
   "cell_type": "code",
   "execution_count": null,
   "metadata": {},
   "outputs": [],
   "source": [
    "# https://ipython-books.github.io/116-applying-digital-filters-to-speech-sounds/\n",
    "\n",
    "from io import BytesIO\n",
    "import tempfile\n",
    "import requests\n",
    "import numpy as np\n",
    "import scipy.signal as sg\n",
    "import pydub\n",
    "import matplotlib.pyplot as plt\n",
    "from IPython.display import Audio, display\n",
    "%matplotlib inline\n",
    "\n",
    "from scipy.io import wavfile\n",
    "\n",
    "\n",
    "def play(x, fr, autoplay=False):\n",
    "    display(Audio(x, rate=fr, autoplay=autoplay))\n",
    "\n",
    "x, fr = wavfile.read('/home/neko/Desktop/MAS-testing 27 Aug/testing 2/chunk_ting/sound_16.wav')\n",
    "# play(x, fr)\n",
    "# fig, ax = plt.subplots(1, 1, figsize=(8, 4))\n",
    "# t = np.linspace(0., len(x) / fr, len(x))\n",
    "# ax.plot(t, x, lw=1)\n",
    "\n",
    "\n",
    "from scipy.signal import butter, lfilter\n",
    "\n",
    "def butter_bandpass_filter(data, lowcut, highcut, fs, order=5):\n",
    "    b, a = butter_bandpass(lowcut, highcut, fs, order=order)\n",
    "    y = lfilter(b, a, data)\n",
    "    return y\n",
    "\n",
    "print(x)\n",
    "\n",
    "lowcut, highcut = 100,700\n",
    "\n",
    "x_fil, fr = butter_bandpass_filter(x, lowcut, highcut, fs=fr, order=5)\n",
    "# play(x_fil, fr)\n",
    "# fig, ax = plt.subplots(1, 1, figsize=(6, 3))\n",
    "# ax.plot(t, x, lw=1)\n",
    "# ax.plot(t, x_fil, lw=1)"
   ]
  },
  {
   "cell_type": "code",
   "execution_count": null,
   "metadata": {},
   "outputs": [],
   "source": [
    "low, high = 120, 700\n",
    "\n",
    "path = \"/home/neko/Desktop/MAS-testing 27 Aug/demo_GUI/train/good/*.wav\"\n",
    "audio_name = []\n",
    "fft_power = []\n",
    "\n",
    "for fileName in glob.iglob(path):\n",
    "    print(fileName.split('/')[-1])\n",
    "    file = fileName.split('/')[-1]\n",
    "    y, sr = librosa.load(fileName)\n",
    "    b,a = butter_bandpass(low, high, sr, order=5)\n",
    "    x = butter_bandpass_filter(y, b, a, sr, order=5)  \n",
    "    wavfile.write('/home/neko/Desktop/MAS-testing 27 Aug/demo_GUI/train/bp/bandpassed_{}.wav'.format(), sr, x.astype(np.int16))"
   ]
  },
  {
   "cell_type": "code",
   "execution_count": null,
   "metadata": {},
   "outputs": [],
   "source": [
    "import numpy as np\n",
    "import sklearn\n",
    "from sklearn.svm import SVC\n",
    "from sklearn.model_selection import train_test_split\n",
    "from sklearn.model_selection import GridSearchCV\n",
    "from sklearn.metrics import classification_report\n",
    "\n",
    "# Load data from numpy file\n",
    "X =  power\n",
    "y =  np.load('label.npy').ravel()\n",
    "\n",
    "# Split data into training and test subsets\n",
    "X_train, X_test, y_train, y_test = train_test_split(X, y, test_size=0.4, random_state=0)\n",
    "\n",
    "# Simple SVM\n",
    "print('fitting...')\n",
    "clf = SVC(C=20.0, gamma=0.00001)\n",
    "clf.fit(X_train, y_train)\n",
    "acc = clf.score(X_test, y_test)\n",
    "print(\"acc=%0.3f\" % acc)\n"
   ]
  }
 ],
 "metadata": {
  "kernelspec": {
   "display_name": "Python 3",
   "language": "python",
   "name": "python3"
  },
  "language_info": {
   "codemirror_mode": {
    "name": "ipython",
    "version": 3
   },
   "file_extension": ".py",
   "mimetype": "text/x-python",
   "name": "python",
   "nbconvert_exporter": "python",
   "pygments_lexer": "ipython3",
   "version": "3.8.3"
  }
 },
 "nbformat": 4,
 "nbformat_minor": 4
}
